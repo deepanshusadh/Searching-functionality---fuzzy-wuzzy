{
 "cells": [
  {
   "cell_type": "code",
   "execution_count": 1,
   "metadata": {},
   "outputs": [],
   "source": [
    "dict={'machine learning':{'course_provider':['Coding Ninjas','Coding Blocks','Coding Elements'],'course_name':['Ml with python','Ml with python','Ml with python'],'price':[25000,25000,25000]},\n",
    "     'WEB':{'course_provider':['Coding Ninjas','Coding Blocks','Coding Elements'],'course_name':['Ml with python','Ml with python','Ml with python'],'price':[25000,25000,25000]}}"
   ]
  },
  {
   "cell_type": "code",
   "execution_count": 2,
   "metadata": {},
   "outputs": [],
   "source": [
    "import pandas as pd\n",
    "df=pd.DataFrame(dict)"
   ]
  },
  {
   "cell_type": "code",
   "execution_count": 3,
   "metadata": {},
   "outputs": [
    {
     "data": {
      "text/html": [
       "<div>\n",
       "<style scoped>\n",
       "    .dataframe tbody tr th:only-of-type {\n",
       "        vertical-align: middle;\n",
       "    }\n",
       "\n",
       "    .dataframe tbody tr th {\n",
       "        vertical-align: top;\n",
       "    }\n",
       "\n",
       "    .dataframe thead th {\n",
       "        text-align: right;\n",
       "    }\n",
       "</style>\n",
       "<table border=\"1\" class=\"dataframe\">\n",
       "  <thead>\n",
       "    <tr style=\"text-align: right;\">\n",
       "      <th></th>\n",
       "      <th>machine learning</th>\n",
       "      <th>WEB</th>\n",
       "    </tr>\n",
       "  </thead>\n",
       "  <tbody>\n",
       "    <tr>\n",
       "      <th>course_name</th>\n",
       "      <td>[Ml with python, Ml with python, Ml with python]</td>\n",
       "      <td>[Ml with python, Ml with python, Ml with python]</td>\n",
       "    </tr>\n",
       "    <tr>\n",
       "      <th>course_provider</th>\n",
       "      <td>[Coding Ninjas, Coding Blocks, Coding Elements]</td>\n",
       "      <td>[Coding Ninjas, Coding Blocks, Coding Elements]</td>\n",
       "    </tr>\n",
       "    <tr>\n",
       "      <th>price</th>\n",
       "      <td>[25000, 25000, 25000]</td>\n",
       "      <td>[25000, 25000, 25000]</td>\n",
       "    </tr>\n",
       "  </tbody>\n",
       "</table>\n",
       "</div>"
      ],
      "text/plain": [
       "                                                 machine learning  \\\n",
       "course_name      [Ml with python, Ml with python, Ml with python]   \n",
       "course_provider   [Coding Ninjas, Coding Blocks, Coding Elements]   \n",
       "price                                       [25000, 25000, 25000]   \n",
       "\n",
       "                                                              WEB  \n",
       "course_name      [Ml with python, Ml with python, Ml with python]  \n",
       "course_provider   [Coding Ninjas, Coding Blocks, Coding Elements]  \n",
       "price                                       [25000, 25000, 25000]  "
      ]
     },
     "execution_count": 3,
     "metadata": {},
     "output_type": "execute_result"
    }
   ],
   "source": [
    "df"
   ]
  },
  {
   "cell_type": "code",
   "execution_count": 5,
   "metadata": {},
   "outputs": [
    {
     "name": "stderr",
     "output_type": "stream",
     "text": [
      "C:\\ProgramData\\Anaconda3\\lib\\site-packages\\fuzzywuzzy\\fuzz.py:11: UserWarning: Using slow pure-python SequenceMatcher. Install python-Levenshtein to remove this warning\n",
      "  warnings.warn('Using slow pure-python SequenceMatcher. Install python-Levenshtein to remove this warning')\n"
     ]
    },
    {
     "name": "stdout",
     "output_type": "stream",
     "text": [
      "mochine learnong\n"
     ]
    }
   ],
   "source": [
    "#pip install fuzzywuzzy\n",
    "from fuzzywuzzy import process\n",
    "list=['machine learning','WEB'] #list of keys in the dict.\n",
    "search_string=input()"
   ]
  },
  {
   "cell_type": "code",
   "execution_count": 8,
   "metadata": {},
   "outputs": [
    {
     "data": {
      "text/plain": [
       "[('machine learning', 88)]"
      ]
     },
     "execution_count": 8,
     "metadata": {},
     "output_type": "execute_result"
    }
   ],
   "source": [
    "k=process.extract(search_string, list, limit=1)\n",
    "k[]"
   ]
  },
  {
   "cell_type": "code",
   "execution_count": 10,
   "metadata": {},
   "outputs": [
    {
     "data": {
      "text/html": [
       "<div>\n",
       "<style scoped>\n",
       "    .dataframe tbody tr th:only-of-type {\n",
       "        vertical-align: middle;\n",
       "    }\n",
       "\n",
       "    .dataframe tbody tr th {\n",
       "        vertical-align: top;\n",
       "    }\n",
       "\n",
       "    .dataframe thead th {\n",
       "        text-align: right;\n",
       "    }\n",
       "</style>\n",
       "<table border=\"1\" class=\"dataframe\">\n",
       "  <thead>\n",
       "    <tr style=\"text-align: right;\">\n",
       "      <th></th>\n",
       "      <th>course_provider</th>\n",
       "      <th>course_name</th>\n",
       "      <th>price</th>\n",
       "    </tr>\n",
       "  </thead>\n",
       "  <tbody>\n",
       "    <tr>\n",
       "      <th>0</th>\n",
       "      <td>Coding Ninjas</td>\n",
       "      <td>Ml with python</td>\n",
       "      <td>25000</td>\n",
       "    </tr>\n",
       "    <tr>\n",
       "      <th>1</th>\n",
       "      <td>Coding Blocks</td>\n",
       "      <td>Ml with python</td>\n",
       "      <td>25000</td>\n",
       "    </tr>\n",
       "    <tr>\n",
       "      <th>2</th>\n",
       "      <td>Coding Elements</td>\n",
       "      <td>Ml with python</td>\n",
       "      <td>25000</td>\n",
       "    </tr>\n",
       "  </tbody>\n",
       "</table>\n",
       "</div>"
      ],
      "text/plain": [
       "   course_provider     course_name  price\n",
       "0    Coding Ninjas  Ml with python  25000\n",
       "1    Coding Blocks  Ml with python  25000\n",
       "2  Coding Elements  Ml with python  25000"
      ]
     },
     "execution_count": 10,
     "metadata": {},
     "output_type": "execute_result"
    }
   ],
   "source": [
    "pd.DataFrame(dict[k[0][0]])"
   ]
  }
 ],
 "metadata": {
  "kernelspec": {
   "display_name": "Python 3",
   "language": "python",
   "name": "python3"
  },
  "language_info": {
   "codemirror_mode": {
    "name": "ipython",
    "version": 3
   },
   "file_extension": ".py",
   "mimetype": "text/x-python",
   "name": "python",
   "nbconvert_exporter": "python",
   "pygments_lexer": "ipython3",
   "version": "3.7.3"
  }
 },
 "nbformat": 4,
 "nbformat_minor": 2
}
